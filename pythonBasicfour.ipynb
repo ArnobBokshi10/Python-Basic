{
 "cells": [
  {
   "cell_type": "code",
   "execution_count": 1,
   "id": "b0bcdfd2-4105-4678-bab3-7e93a459be9b",
   "metadata": {},
   "outputs": [
    {
     "data": {
      "text/plain": [
       "{'key': 'value'}"
      ]
     },
     "execution_count": 1,
     "metadata": {},
     "output_type": "execute_result"
    }
   ],
   "source": [
    "d = {'key':\"value\"}\n",
    "d"
   ]
  },
  {
   "cell_type": "code",
   "execution_count": 2,
   "id": "ed5b85ee-b380-4f9b-9a70-f5889e399116",
   "metadata": {},
   "outputs": [
    {
     "data": {
      "text/plain": [
       "{'name': 'arnob',\n",
       " 'email': 'abarnab21@gmail.com',\n",
       " '_phone no': 1726655423,\n",
       " True: 1232,\n",
       " 2232: 'Arnob'}"
      ]
     },
     "execution_count": 2,
     "metadata": {},
     "output_type": "execute_result"
    }
   ],
   "source": [
    "d = {'name': \"arnob\", \"email\": \"abarnab21@gmail.com\", '_phone no': 1726655423, True: 1232 , 2232: \"Arnob\"}\n",
    "d"
   ]
  },
  {
   "cell_type": "code",
   "execution_count": 3,
   "id": "2e60203f-703a-4d2a-b369-b1bcf72b1ae7",
   "metadata": {},
   "outputs": [
    {
     "data": {
      "text/plain": [
       "dict"
      ]
     },
     "execution_count": 3,
     "metadata": {},
     "output_type": "execute_result"
    }
   ],
   "source": [
    "type(d)"
   ]
  },
  {
   "cell_type": "code",
   "execution_count": 4,
   "id": "b8248e58-578f-4065-99ac-50393e8c2280",
   "metadata": {},
   "outputs": [
    {
     "data": {
      "text/plain": [
       "1232"
      ]
     },
     "execution_count": 4,
     "metadata": {},
     "output_type": "execute_result"
    }
   ],
   "source": [
    "d[1]"
   ]
  },
  {
   "cell_type": "code",
   "execution_count": 5,
   "id": "75e1e0fd-b6ed-471b-8823-a0c7a69d1ed8",
   "metadata": {},
   "outputs": [
    {
     "data": {
      "text/plain": [
       "{'name': 'arnob',\n",
       " 'email': 'abarnab21@gmail.com',\n",
       " '_phone no': 1726655423,\n",
       " True: 1232,\n",
       " 2232: 'Arnob'}"
      ]
     },
     "execution_count": 5,
     "metadata": {},
     "output_type": "execute_result"
    }
   ],
   "source": [
    "d"
   ]
  },
  {
   "cell_type": "code",
   "execution_count": 6,
   "id": "9a1ad9cb-7852-4be2-9ede-8528e98096d1",
   "metadata": {},
   "outputs": [
    {
     "data": {
      "text/plain": [
       "1726655423"
      ]
     },
     "execution_count": 6,
     "metadata": {},
     "output_type": "execute_result"
    }
   ],
   "source": [
    "d['_phone no']"
   ]
  },
  {
   "cell_type": "code",
   "execution_count": 7,
   "id": "2d3957be-f1e6-4722-a423-ab5a738ab7d3",
   "metadata": {},
   "outputs": [
    {
     "data": {
      "text/plain": [
       "'arnob'"
      ]
     },
     "execution_count": 7,
     "metadata": {},
     "output_type": "execute_result"
    }
   ],
   "source": [
    "d['name']"
   ]
  },
  {
   "cell_type": "code",
   "execution_count": 8,
   "id": "66620267-1057-4727-a467-1148edc2d7e0",
   "metadata": {},
   "outputs": [
    {
     "data": {
      "text/plain": [
       "'abarnab21@gmail.com'"
      ]
     },
     "execution_count": 8,
     "metadata": {},
     "output_type": "execute_result"
    }
   ],
   "source": [
    "d['email']"
   ]
  },
  {
   "cell_type": "code",
   "execution_count": 9,
   "id": "3af8a181-0e11-4cb3-9b97-41f783a58c16",
   "metadata": {},
   "outputs": [
    {
     "data": {
      "text/plain": [
       "'Arnob'"
      ]
     },
     "execution_count": 9,
     "metadata": {},
     "output_type": "execute_result"
    }
   ],
   "source": [
    "d[2232]"
   ]
  },
  {
   "cell_type": "code",
   "execution_count": 10,
   "id": "b6d53b67-a9e8-4b32-ae89-99ab46671d3a",
   "metadata": {},
   "outputs": [
    {
     "data": {
      "text/plain": [
       "1232"
      ]
     },
     "execution_count": 10,
     "metadata": {},
     "output_type": "execute_result"
    }
   ],
   "source": [
    "d[1]"
   ]
  },
  {
   "cell_type": "code",
   "execution_count": 11,
   "id": "b42b01d4-70b7-4799-b2d5-81cf428acf47",
   "metadata": {},
   "outputs": [
    {
     "data": {
      "text/plain": [
       "{'name ': 'Arnob', 'mail_id': 'aa@gamil.com', 'name': 'Arnob Bokshi'}"
      ]
     },
     "execution_count": 11,
     "metadata": {},
     "output_type": "execute_result"
    }
   ],
   "source": [
    "d = {'name ': \"Arnob\" ,\"mail_id\":\"aa@gamil.com\", \"name\" : \"Arnob Bokshi\"}\n",
    "d"
   ]
  },
  {
   "cell_type": "code",
   "execution_count": 12,
   "id": "20747164-3b17-435b-be94-b9ac93bfcabe",
   "metadata": {},
   "outputs": [
    {
     "data": {
      "text/plain": [
       "'Arnob Bokshi'"
      ]
     },
     "execution_count": 12,
     "metadata": {},
     "output_type": "execute_result"
    }
   ],
   "source": [
    "d['name']#use key as unique otherwise it will override"
   ]
  },
  {
   "cell_type": "code",
   "execution_count": 13,
   "id": "2801490d-36d2-4fa9-a1c4-690fbb300571",
   "metadata": {},
   "outputs": [
    {
     "data": {
      "text/plain": [
       "{'company ': 'pwskills',\n",
       " 'courses': ['Web dev', 'data scinece ', 'system design']}"
      ]
     },
     "execution_count": 13,
     "metadata": {},
     "output_type": "execute_result"
    }
   ],
   "source": [
    "d1 = {\"company \" : \"pwskills\" , \"courses\" : [\"Web dev\" , \"data scinece \" , \"system design\"]}\n",
    "d1     "
   ]
  },
  {
   "cell_type": "code",
   "execution_count": 14,
   "id": "0a067355-b607-4a21-b86e-954591af658b",
   "metadata": {},
   "outputs": [
    {
     "data": {
      "text/plain": [
       "'system design'"
      ]
     },
     "execution_count": 14,
     "metadata": {},
     "output_type": "execute_result"
    }
   ],
   "source": [
    "d1['courses'][2]"
   ]
  },
  {
   "cell_type": "code",
   "execution_count": 15,
   "id": "9f4e8931-67c3-4ac7-a6d8-30767bf844a9",
   "metadata": {},
   "outputs": [
    {
     "data": {
      "text/plain": [
       "{'number': [1, 2, 3, 4, 5],\n",
       " 'Assignment': (1, 2, 3, 4, 5),\n",
       " 'launch-date': {12, 14, 16},\n",
       " 'class-time': {'dsa': 8, 'java': 9, 'data-science': 10}}"
      ]
     },
     "execution_count": 15,
     "metadata": {},
     "output_type": "execute_result"
    }
   ],
   "source": [
    "d2 = {'number': [1,2,3,4,5] , 'Assignment' : (1,2,3,4,5), 'launch-date': {12,14,16},\n",
    "      \"class-time\" : {\"dsa\" : 8 , \"java\": 9, \"data-science\": 10}}\n",
    "d2"
   ]
  },
  {
   "cell_type": "code",
   "execution_count": 16,
   "id": "cc966bc9-ab24-4dee-b7c2-26290cf2e434",
   "metadata": {},
   "outputs": [
    {
     "data": {
      "text/plain": [
       "{'dsa': 8, 'java': 9, 'data-science': 10}"
      ]
     },
     "execution_count": 16,
     "metadata": {},
     "output_type": "execute_result"
    }
   ],
   "source": [
    "d2['class-time']"
   ]
  },
  {
   "cell_type": "code",
   "execution_count": 17,
   "id": "c3b10192-baf0-4900-b6ea-89f9b31a7e28",
   "metadata": {},
   "outputs": [
    {
     "data": {
      "text/plain": [
       "9"
      ]
     },
     "execution_count": 17,
     "metadata": {},
     "output_type": "execute_result"
    }
   ],
   "source": [
    "d2['class-time']['java']"
   ]
  },
  {
   "cell_type": "code",
   "execution_count": 18,
   "id": "4671cbfc-e496-4da2-9904-f240e29903a6",
   "metadata": {},
   "outputs": [
    {
     "data": {
      "text/plain": [
       "{'number': [1, 2, 3, 4, 5],\n",
       " 'Assignment': (1, 2, 3, 4, 5),\n",
       " 'launch-date': {12, 14, 16},\n",
       " 'class-time': {'dsa': 8, 'java': 9, 'data-science': 10},\n",
       " 'mentor': ['sudhanshu', 'krish', 'anurag', 'hayder']}"
      ]
     },
     "execution_count": 18,
     "metadata": {},
     "output_type": "execute_result"
    }
   ],
   "source": [
    "d2['mentor'] =[\"sudhanshu\",\"krish\",\"anurag\",\"hayder\"]\n",
    "d2"
   ]
  },
  {
   "cell_type": "code",
   "execution_count": 19,
   "id": "ac4967ef-c109-4255-b520-0ae35ba452b2",
   "metadata": {},
   "outputs": [
    {
     "data": {
      "text/plain": [
       "dict_keys(['number', 'Assignment', 'launch-date', 'class-time', 'mentor'])"
      ]
     },
     "execution_count": 19,
     "metadata": {},
     "output_type": "execute_result"
    }
   ],
   "source": [
    "d2.keys()"
   ]
  },
  {
   "cell_type": "code",
   "execution_count": 20,
   "id": "8f20cc89-2ac0-4939-bead-a048f5a46ee7",
   "metadata": {},
   "outputs": [
    {
     "data": {
      "text/plain": [
       "dict_values([[1, 2, 3, 4, 5], (1, 2, 3, 4, 5), {16, 12, 14}, {'dsa': 8, 'java': 9, 'data-science': 10}, ['sudhanshu', 'krish', 'anurag', 'hayder']])"
      ]
     },
     "execution_count": 20,
     "metadata": {},
     "output_type": "execute_result"
    }
   ],
   "source": [
    "d2.values()"
   ]
  },
  {
   "cell_type": "code",
   "execution_count": 21,
   "id": "a43e8ac0-296d-4792-baae-759b9287c65c",
   "metadata": {},
   "outputs": [
    {
     "data": {
      "text/plain": [
       "dict_items([('number', [1, 2, 3, 4, 5]), ('Assignment', (1, 2, 3, 4, 5)), ('launch-date', {16, 12, 14}), ('class-time', {'dsa': 8, 'java': 9, 'data-science': 10}), ('mentor', ['sudhanshu', 'krish', 'anurag', 'hayder'])])"
      ]
     },
     "execution_count": 21,
     "metadata": {},
     "output_type": "execute_result"
    }
   ],
   "source": [
    "d2.items()"
   ]
  },
  {
   "cell_type": "code",
   "execution_count": 22,
   "id": "4f13feec-5df5-4751-a0bd-dd0bead935b0",
   "metadata": {},
   "outputs": [
    {
     "data": {
      "text/plain": [
       "[1, 2, 3, 4, 5]"
      ]
     },
     "execution_count": 22,
     "metadata": {},
     "output_type": "execute_result"
    }
   ],
   "source": [
    "d2.pop('number')"
   ]
  },
  {
   "cell_type": "code",
   "execution_count": 23,
   "id": "4de5d951-417a-4356-a8b2-e9c8f1f9695e",
   "metadata": {},
   "outputs": [
    {
     "data": {
      "text/plain": [
       "{'Assignment': (1, 2, 3, 4, 5),\n",
       " 'launch-date': {12, 14, 16},\n",
       " 'class-time': {'dsa': 8, 'java': 9, 'data-science': 10},\n",
       " 'mentor': ['sudhanshu', 'krish', 'anurag', 'hayder']}"
      ]
     },
     "execution_count": 23,
     "metadata": {},
     "output_type": "execute_result"
    }
   ],
   "source": [
    "d2"
   ]
  },
  {
   "cell_type": "code",
   "execution_count": 25,
   "id": "d2c8425c-d6fc-4d2a-9eed-d3570013eb61",
   "metadata": {},
   "outputs": [
    {
     "name": "stdin",
     "output_type": "stream",
     "text": [
      "enter number  45\n"
     ]
    },
    {
     "name": "stdout",
     "output_type": "stream",
     "text": [
      "you will b a part of A3\n"
     ]
    }
   ],
   "source": [
    "marks = int(input(\"enter number \"))\n",
    "if marks>=80:\n",
    "   print(\"you will be a part of A1\")\n",
    "elif marks >=60 and marks <80 :\n",
    "   print(\"you will be a part of A2\")\n",
    "else :\n",
    "   print(\"you will b a part of A3\")"
   ]
  },
  {
   "cell_type": "code",
   "execution_count": 4,
   "id": "364f39bf-9dfa-4855-884b-3edd68415c9d",
   "metadata": {},
   "outputs": [
    {
     "name": "stdout",
     "output_type": "stream",
     "text": [
      "['arnob', 'bokshi', 'my queen']\n",
      "['arnob', 'bokshi', 'my queen']\n",
      "['arnob', 'bokshi', 'my queen']\n"
     ]
    }
   ],
   "source": [
    "l = [\"arnob\" , \"bokshi\" , \"my queen\"]\n",
    "for i in l :\n",
    "    print(l)\n",
    "    "
   ]
  },
  {
   "cell_type": "code",
   "execution_count": 18,
   "id": "006168be-e9de-47c1-9b67-e72f64c1a3fc",
   "metadata": {},
   "outputs": [
    {
     "name": "stdout",
     "output_type": "stream",
     "text": [
      "Arnob\n",
      "my queen\n",
      "bokshi\n",
      "['ARNOB', 'MY QUEEN', 'BOKSHI']\n"
     ]
    }
   ],
   "source": [
    "l = [\"Arnob\", \"my queen\", \"bokshi\"]\n",
    "l1 = []\n",
    "for i in l:\n",
    "    print(i)\n",
    "    l1.append(i.upper())\n",
    "print(l1)\n"
   ]
  },
  {
   "cell_type": "code",
   "execution_count": 29,
   "id": "a213455c-9744-44a0-a569-3c4da82bd8f5",
   "metadata": {},
   "outputs": [
    {
     "data": {
      "text/plain": [
       "[1, 2, 3, 4, 5, 56.55]"
      ]
     },
     "execution_count": 29,
     "metadata": {},
     "output_type": "execute_result"
    }
   ],
   "source": [
    "l2 = [\"arnob\", 1, 2, 3, 4, 5, \"course\", 56.55]\n",
    "l_int = []\n",
    "l_str = []\n",
    "\n",
    "for i in l2:\n",
    "    if type(i) == int or type(i) == float:\n",
    "        l_int.append(i)\n",
    "    else:\n",
    "        l_str.append(i)\n",
    "l_int\n",
    "\n"
   ]
  },
  {
   "cell_type": "code",
   "execution_count": 30,
   "id": "5eaa0baf-d1ba-4820-9f59-7b379df5f4db",
   "metadata": {},
   "outputs": [
    {
     "data": {
      "text/plain": [
       "['arnob', 'course']"
      ]
     },
     "execution_count": 30,
     "metadata": {},
     "output_type": "execute_result"
    }
   ],
   "source": [
    "l_str"
   ]
  },
  {
   "cell_type": "code",
   "execution_count": 2,
   "id": "c49d5169-8a82-482f-9f96-0f15e8ea721f",
   "metadata": {},
   "outputs": [
    {
     "name": "stdout",
     "output_type": "stream",
     "text": [
      "<class 'int'>\n",
      "<class 'int'>\n",
      "<class 'int'>\n",
      "<class 'int'>\n",
      "<class 'int'>\n"
     ]
    }
   ],
   "source": [
    "l = [1,2,2,4,4]\n",
    "for i in l :\n",
    "    print(type(i))"
   ]
  },
  {
   "cell_type": "code",
   "execution_count": 4,
   "id": "4422fcdd-6f74-451a-a202-a26dd7217f10",
   "metadata": {},
   "outputs": [
    {
     "name": "stdout",
     "output_type": "stream",
     "text": [
      "Arnob\n",
      "do something\n"
     ]
    }
   ],
   "source": [
    "l = [\"Arnob\", \"Bokshi\", \"pwskills\"]\n",
    "for i in l :\n",
    "    if(i == \"Arnob\") :\n",
    "       print(i)\n",
    "else : #after exeuting the for block it goes to else block\n",
    "    print(\"do something\")"
   ]
  },
  {
   "cell_type": "code",
   "execution_count": 23,
   "id": "c26b160a-7de0-4d72-ab7e-25fc177273e9",
   "metadata": {},
   "outputs": [
    {
     "name": "stdout",
     "output_type": "stream",
     "text": [
      "Bokshi\n"
     ]
    }
   ],
   "source": [
    "l = [\"Arnob\", \"Bokshi\", \"pwskills\"]\n",
    "for i in l:\n",
    "    if i == \"Bokshi\":\n",
    "        print(i)\n",
    "        break\n",
    "else:\n",
    "    print(\"for loop ends here\")\n"
   ]
  },
  {
   "cell_type": "code",
   "execution_count": 27,
   "id": "617e4afc-5eb7-4318-9473-8980c7842f01",
   "metadata": {},
   "outputs": [
    {
     "name": "stdout",
     "output_type": "stream",
     "text": [
      "Arnob\n"
     ]
    }
   ],
   "source": [
    "l = [\"Arnob\" , \"Bokshi\" , \"pwskills\"]\n",
    "for i in l :\n",
    "    if i == \"Bokshi\":\n",
    "       break\n",
    "    print(i)\n",
    "    "
   ]
  },
  {
   "cell_type": "code",
   "execution_count": 28,
   "id": "ec272de9-1e03-4d3c-bae8-00a1cb9cfc35",
   "metadata": {},
   "outputs": [
    {
     "name": "stdout",
     "output_type": "stream",
     "text": [
      "Arnob\n",
      "pwskills\n"
     ]
    }
   ],
   "source": [
    "l = [\"Arnob\" , \"Bokshi\" , \"pwskills\"]\n",
    "for i in l :\n",
    "    if i == \"Bokshi\":\n",
    "       continue\n",
    "    print(i)\n",
    "    "
   ]
  },
  {
   "cell_type": "code",
   "execution_count": 30,
   "id": "6f96e125-1b9b-4fc9-a64c-779ff274439b",
   "metadata": {},
   "outputs": [
    {
     "name": "stdout",
     "output_type": "stream",
     "text": [
      "Arnob\n",
      "pwskills\n",
      "for loop ends here\n"
     ]
    }
   ],
   "source": [
    "l = [\"Arnob\" , \"Bokshi\" , \"pwskills\"]\n",
    "for i in l :\n",
    "    if i == \"Bokshi\":\n",
    "       continue\n",
    "    print(i)\n",
    "else :\n",
    "    print(\"for loop ends here\")"
   ]
  },
  {
   "cell_type": "code",
   "execution_count": 31,
   "id": "703c5a2c-e6e5-494e-8a1d-2d1a14d08b53",
   "metadata": {},
   "outputs": [
    {
     "data": {
      "text/plain": [
       "range(0, 4)"
      ]
     },
     "execution_count": 31,
     "metadata": {},
     "output_type": "execute_result"
    }
   ],
   "source": [
    "range(0,4)"
   ]
  },
  {
   "cell_type": "code",
   "execution_count": 33,
   "id": "858a3fde-40a4-4723-a8a5-ff4b92448841",
   "metadata": {},
   "outputs": [
    {
     "data": {
      "text/plain": [
       "[0, 1, 2, 3, 4]"
      ]
     },
     "execution_count": 33,
     "metadata": {},
     "output_type": "execute_result"
    }
   ],
   "source": [
    "list(range(0,5))"
   ]
  },
  {
   "cell_type": "code",
   "execution_count": 34,
   "id": "f4f7b0ae-d1f5-49fb-bb36-572b56dfea13",
   "metadata": {},
   "outputs": [
    {
     "data": {
      "text/plain": [
       "[]"
      ]
     },
     "execution_count": 34,
     "metadata": {},
     "output_type": "execute_result"
    }
   ],
   "source": [
    "list(range(5,0))"
   ]
  },
  {
   "cell_type": "code",
   "execution_count": 41,
   "id": "954fea71-d75f-49cb-87cf-1cce06e7b07d",
   "metadata": {},
   "outputs": [
    {
     "data": {
      "text/plain": [
       "[0, 1, 2, 3]"
      ]
     },
     "execution_count": 41,
     "metadata": {},
     "output_type": "execute_result"
    }
   ],
   "source": [
    "l = [\"Arnob\", \"Bokshi\" , \"My queen\" , \"pwskills\"]\n",
    "list(range(len(l)))"
   ]
  },
  {
   "cell_type": "code",
   "execution_count": 44,
   "id": "3f6bc2cf-dcf7-43b3-8e73-ad5ca2653373",
   "metadata": {},
   "outputs": [
    {
     "name": "stdout",
     "output_type": "stream",
     "text": [
      "Arnob\n",
      "Bokshi\n",
      "My queen\n",
      "pwskills\n"
     ]
    }
   ],
   "source": [
    "for i in range(len(l)):\n",
    "    print(l[i])"
   ]
  },
  {
   "cell_type": "code",
   "execution_count": 47,
   "id": "3a4726b6-76f1-4302-a43a-1f9893218c33",
   "metadata": {},
   "outputs": [
    {
     "data": {
      "text/plain": [
       "[]"
      ]
     },
     "execution_count": 47,
     "metadata": {},
     "output_type": "execute_result"
    }
   ],
   "source": [
    "list(range(len(l),0))"
   ]
  },
  {
   "cell_type": "code",
   "execution_count": 60,
   "id": "8b2e82c5-46cc-4715-8b93-eaf1a9e6797f",
   "metadata": {},
   "outputs": [
    {
     "data": {
      "text/plain": [
       "range(4, 0, -1)"
      ]
     },
     "execution_count": 60,
     "metadata": {},
     "output_type": "execute_result"
    }
   ],
   "source": [
    "(range(len(l),0,-1))"
   ]
  },
  {
   "cell_type": "code",
   "execution_count": 62,
   "id": "7854f6be-ac70-4d34-a7f0-c5b89624d8b9",
   "metadata": {},
   "outputs": [
    {
     "data": {
      "text/plain": [
       "[4, 3, 2, 1]"
      ]
     },
     "execution_count": 62,
     "metadata": {},
     "output_type": "execute_result"
    }
   ],
   "source": [
    "list(range(len(l),0,-1))"
   ]
  },
  {
   "cell_type": "code",
   "execution_count": 67,
   "id": "7161710a-cd50-4a22-a31a-0388485bc464",
   "metadata": {},
   "outputs": [
    {
     "data": {
      "text/plain": [
       "[3, 2, 1]"
      ]
     },
     "execution_count": 67,
     "metadata": {},
     "output_type": "execute_result"
    }
   ],
   "source": [
    "list(range(len(l)-1,0,-1))\n",
    "    "
   ]
  },
  {
   "cell_type": "code",
   "execution_count": 69,
   "id": "003170c2-fc7d-4977-8406-2f09b7df646a",
   "metadata": {},
   "outputs": [
    {
     "data": {
      "text/plain": [
       "[3, 2, 1, 0]"
      ]
     },
     "execution_count": 69,
     "metadata": {},
     "output_type": "execute_result"
    }
   ],
   "source": [
    "list(range(len(l)-1,-1,-1))"
   ]
  },
  {
   "cell_type": "code",
   "execution_count": 71,
   "id": "d46449e2-7d7e-4a84-9209-2c618e205993",
   "metadata": {},
   "outputs": [
    {
     "name": "stdout",
     "output_type": "stream",
     "text": [
      "pwskills\n",
      "My queen\n",
      "Bokshi\n",
      "Arnob\n"
     ]
    }
   ],
   "source": [
    "for i in list(range(len(l)-1,-1,-1)):\n",
    "    print(l[i])"
   ]
  },
  {
   "cell_type": "raw",
   "id": "cf1170b4-9ac3-4b95-8abf-7be72219d9f6",
   "metadata": {},
   "source": []
  },
  {
   "cell_type": "code",
   "execution_count": 73,
   "id": "f5d11a8b-ee46-49b4-8a8a-ea3582d6fdcc",
   "metadata": {},
   "outputs": [
    {
     "data": {
      "text/plain": [
       "[0, 2, 4, 6, 8]"
      ]
     },
     "execution_count": 73,
     "metadata": {},
     "output_type": "execute_result"
    }
   ],
   "source": [
    "l = [1,2,3,4,5,6,7,8,9,10]\n",
    "list(range(0, len(l), 2))"
   ]
  },
  {
   "cell_type": "code",
   "execution_count": 80,
   "id": "8e3a3681-378a-44aa-b5b7-4bfdeaa3df80",
   "metadata": {},
   "outputs": [
    {
     "name": "stdout",
     "output_type": "stream",
     "text": [
      "1\n",
      "3\n",
      "5\n",
      "7\n",
      "9\n"
     ]
    }
   ],
   "source": [
    "for i in range(0, len(l), 2):\n",
    "    print(l[i])"
   ]
  },
  {
   "cell_type": "code",
   "execution_count": 82,
   "id": "a705f72e-1cbc-4fe4-b4c6-a4b32c04eb8f",
   "metadata": {},
   "outputs": [
    {
     "name": "stdout",
     "output_type": "stream",
     "text": [
      "p\n",
      "w\n",
      "s\n",
      "k\n",
      "i\n",
      "l\n",
      "l\n"
     ]
    }
   ],
   "source": [
    "s1 = \"pwskill\"\n",
    "for i in s1:\n",
    "    print(i)"
   ]
  },
  {
   "cell_type": "code",
   "execution_count": 85,
   "id": "8c3c8b71-ba33-4ce6-b339-bc4fb219bbfc",
   "metadata": {},
   "outputs": [
    {
     "data": {
      "text/plain": [
       "{'name': 'Arnob Bokshi',\n",
       " 'class': 'Data science masters',\n",
       " 'topic': ['Machine learning', 'deep learning', 'NLP', 'CV']}"
      ]
     },
     "execution_count": 85,
     "metadata": {},
     "output_type": "execute_result"
    }
   ],
   "source": [
    "d = {\"name\" : \"Arnob Bokshi\" , \"class\" : \"Data science masters\" , \n",
    "    \"topic\" : [\"Machine learning\",\"deep learning\", \"NLP\", \"CV\"]}\n",
    "d"
   ]
  },
  {
   "cell_type": "code",
   "execution_count": 88,
   "id": "115bd223-2f7c-4f8b-a0a1-c5ffedd7b49a",
   "metadata": {},
   "outputs": [
    {
     "data": {
      "text/plain": [
       "dict_keys(['name', 'class', 'topic'])"
      ]
     },
     "execution_count": 88,
     "metadata": {},
     "output_type": "execute_result"
    }
   ],
   "source": [
    "d.keys()"
   ]
  },
  {
   "cell_type": "code",
   "execution_count": 11,
   "id": "dc51d1a5-c0c7-4274-accf-47d57610bfc6",
   "metadata": {},
   "outputs": [
    {
     "name": "stdin",
     "output_type": "stream",
     "text": [
      "enter the number  4\n"
     ]
    },
    {
     "name": "stdout",
     "output_type": "stream",
     "text": [
      "The factorial is :  24\n"
     ]
    }
   ],
   "source": [
    "number = int(input(\"enter the number \"))\n",
    "factorial = 1\n",
    "while number > 0 :\n",
    "      factorial = number * factorial\n",
    "      number = number -1\n",
    "print(\"The factorial is : \", factorial)"
   ]
  },
  {
   "cell_type": "code",
   "execution_count": 24,
   "id": "9004f7bf-bd0a-43c9-8bcf-062dec6e449e",
   "metadata": {},
   "outputs": [
    {
     "name": "stdin",
     "output_type": "stream",
     "text": [
      "enter the limit of the number :  7\n"
     ]
    },
    {
     "name": "stdout",
     "output_type": "stream",
     "text": [
      "0\n",
      "1\n",
      "1\n",
      "2\n",
      "3\n",
      "5\n",
      "8\n"
     ]
    }
   ],
   "source": [
    "#fibonacci series\n",
    "number = int(input(\"enter the limit of the number : \"))\n",
    "count = 0\n",
    "a = 0\n",
    "b = 1\n",
    "while count < number :\n",
    "    print(a)\n",
    "    c = a+b\n",
    "    a = b\n",
    "    b = c\n",
    "    count = count +1"
   ]
  },
  {
   "cell_type": "code",
   "execution_count": 38,
   "id": "d9d8101a-c398-4bd4-82d0-078c05b4408a",
   "metadata": {},
   "outputs": [
    {
     "name": "stdin",
     "output_type": "stream",
     "text": [
      "Enter the word:  Arnob\n"
     ]
    },
    {
     "name": "stdout",
     "output_type": "stream",
     "text": [
      "bonrA\n"
     ]
    }
   ],
   "source": [
    "word = input(\"Enter the word: \")\n",
    "length = len(word)\n",
    "reverse = \"\"\n",
    "while length > 0:\n",
    "    reverse = reverse + word[length - 1]\n",
    "    length = length - 1\n",
    "\n",
    "print(reverse)"
   ]
  },
  {
   "cell_type": "code",
   "execution_count": null,
   "id": "0457edf8-2be1-4f40-a803-fa49a418fb18",
   "metadata": {},
   "outputs": [],
   "source": []
  }
 ],
 "metadata": {
  "kernelspec": {
   "display_name": "Python 3 (ipykernel)",
   "language": "python",
   "name": "python3"
  },
  "language_info": {
   "codemirror_mode": {
    "name": "ipython",
    "version": 3
   },
   "file_extension": ".py",
   "mimetype": "text/x-python",
   "name": "python",
   "nbconvert_exporter": "python",
   "pygments_lexer": "ipython3",
   "version": "3.10.6"
  }
 },
 "nbformat": 4,
 "nbformat_minor": 5
}
